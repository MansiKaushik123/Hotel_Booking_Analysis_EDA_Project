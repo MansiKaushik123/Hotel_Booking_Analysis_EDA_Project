{
  "nbformat": 4,
  "nbformat_minor": 0,
  "metadata": {
    "colab": {
      "private_outputs": true,
      "provenance": [],
      "collapsed_sections": [
        "vncDsAP0Gaoa",
        "FJNUwmbgGyua",
        "w6K7xa23Elo4",
        "yQaldy8SH6Dl",
        "mDgbUHAGgjLW",
        "O_i_v8NEhb9l",
        "HhfV-JJviCcP",
        "Y3lxredqlCYt",
        "3RnN4peoiCZX",
        "x71ZqKXriCWQ",
        "7hBIi_osiCS2",
        "JlHwYmJAmNHm",
        "35m5QtbWiB9F",
        "PoPl-ycgm1ru",
        "H0kj-8xxnORC",
        "nA9Y7ga8ng1Z",
        "PBTbrJXOngz2",
        "u3PMJOP6ngxN",
        "dauF4eBmngu3",
        "bKJF3rekwFvQ",
        "MSa1f5Uengrz",
        "GF8Ens_Soomf",
        "0wOQAZs5pc--",
        "K5QZ13OEpz2H",
        "lQ7QKXXCp7Bj",
        "448CDAPjqfQr",
        "KSlN3yHqYklG",
        "t6dVpIINYklI",
        "ijmpgYnKYklI",
        "-JiQyfWJYklI",
        "EM7whBJCYoAo",
        "fge-S5ZAYoAp",
        "85gYPyotYoAp",
        "RoGjAbkUYoAp",
        "4Of9eVA-YrdM",
        "iky9q4vBYrdO",
        "F6T5p64dYrdO",
        "y-Ehk30pYrdP",
        "bamQiAODYuh1",
        "QHF8YVU7Yuh3",
        "GwzvFGzlYuh3",
        "qYpmQ266Yuh3",
        "OH-pJp9IphqM",
        "bbFf2-_FphqN",
        "_ouA3fa0phqN",
        "Seke61FWphqN",
        "PIIx-8_IphqN",
        "t27r6nlMphqO",
        "r2jJGEOYphqO",
        "b0JNsNcRphqO",
        "BZR9WyysphqO",
        "jj7wYXLtphqO",
        "eZrbJ2SmphqO",
        "rFu4xreNphqO",
        "YJ55k-q6phqO",
        "gCFgpxoyphqP",
        "OVtJsKN_phqQ",
        "lssrdh5qphqQ",
        "U2RJ9gkRphqQ",
        "1M8mcRywphqQ",
        "tgIPom80phqQ",
        "JMzcOPDDphqR",
        "x-EpHcCOp1ci",
        "X_VqEhTip1ck",
        "8zGJKyg5p1ck",
        "PVzmfK_Ep1ck",
        "n3dbpmDWp1ck",
        "ylSl6qgtp1ck",
        "ZWILFDl5p1ck",
        "M7G43BXep1ck",
        "Ag9LCva-p1cl",
        "E6MkPsBcp1cl",
        "2cELzS2fp1cl",
        "3MPXvC8up1cl",
        "NC_X3p0fY2L0",
        "UV0SzAkaZNRQ",
        "YPEH6qLeZNRQ",
        "q29F0dvdveiT",
        "EXh0U9oCveiU",
        "22aHeOlLveiV",
        "g-ATYxFrGrvw",
        "Yfr_Vlr8HBkt",
        "8yEUt7NnHlrM",
        "tEA2Xm5dHt1r",
        "I79__PHVH19G",
        "Ou-I18pAyIpj",
        "fF3858GYyt-u",
        "4_0_7-oCpUZd",
        "hwyV_J3ipUZe",
        "3yB-zSqbpUZe",
        "dEUvejAfpUZe",
        "Fd15vwWVpUZf",
        "bn_IUdTipZyH",
        "49K5P_iCpZyH",
        "Nff-vKELpZyI",
        "kLW572S8pZyI",
        "dWbDXHzopZyI",
        "yLjJCtPM0KBk",
        "xiyOF9F70UgQ",
        "7wuGOrhz0itI",
        "id1riN9m0vUs",
        "578E2V7j08f6",
        "89xtkJwZ18nB",
        "67NQN5KX2AMe",
        "Iwf50b-R2tYG",
        "GMQiZwjn3iu7",
        "WVIkgGqN3qsr",
        "XkPnILGE3zoT",
        "Hlsf0x5436Go",
        "mT9DMSJo4nBL",
        "c49ITxTc407N",
        "OeJFEK0N496M",
        "9ExmJH0g5HBk",
        "cJNqERVU536h",
        "k5UmGsbsOxih",
        "T0VqWOYE6DLQ",
        "qBMux9mC6MCf",
        "-oLEiFgy-5Pf",
        "C74aWNz2AliB",
        "2DejudWSA-a0",
        "pEMng2IbBLp7",
        "rAdphbQ9Bhjc",
        "TNVZ9zx19K6k",
        "nqoHp30x9hH9",
        "rMDnDkt2B6du",
        "yiiVWRdJDDil",
        "1UUpS68QDMuG",
        "kexQrXU-DjzY",
        "T5CmagL3EC8N",
        "BhH2vgX9EjGr",
        "qjKvONjwE8ra",
        "P1XJ9OREExlT",
        "VFOzZv6IFROw",
        "TIqpNgepFxVj",
        "VfCC591jGiD4",
        "OB4l2ZhMeS1U",
        "ArJBuiUVfxKd",
        "4qY1EAkEfxKe",
        "PiV4Ypx8fxKe",
        "TfvqoZmBfxKf",
        "dJ2tPlVmpsJ0",
        "JWYfwnehpsJ1",
        "-jK_YjpMpsJ2",
        "HAih1iBOpsJ2",
        "zVGeBEFhpsJ2",
        "bmKjuQ-FpsJ3",
        "Fze-IPXLpx6K",
        "7AN1z2sKpx6M",
        "9PIHJqyupx6M",
        "_-qAgymDpx6N",
        "Z-hykwinpx6N",
        "h_CCil-SKHpo",
        "cBFFvTBNJzUa",
        "HvGl1hHyA_VK",
        "EyNgTHvd2WFk",
        "KH5McJBi2d8v",
        "iW_Lq9qf2h6X",
        "-Kee-DAl2viO",
        "gCX9965dhzqZ",
        "gIfDvo9L0UH2"
      ],
      "include_colab_link": true
    },
    "kernelspec": {
      "name": "python3",
      "display_name": "Python 3"
    },
    "language_info": {
      "name": "python"
    }
  },
  "cells": [
    {
      "cell_type": "markdown",
      "metadata": {
        "id": "view-in-github",
        "colab_type": "text"
      },
      "source": [
        "<a href=\"https://colab.research.google.com/github/MansiKaushik123/Hotel_Booking_Analysis_EDA_Project/blob/main/Retail_Sales_Prediction_Regression_Project.ipynb\" target=\"_parent\"><img src=\"https://colab.research.google.com/assets/colab-badge.svg\" alt=\"Open In Colab\"/></a>"
      ]
    },
    {
      "cell_type": "markdown",
      "source": [
        "# **Project Name**    -  Retail Sales Prediction\n",
        "\n"
      ],
      "metadata": {
        "id": "vncDsAP0Gaoa"
      }
    },
    {
      "cell_type": "markdown",
      "source": [
        "![WhatsApp Image 2023-08-15 at 09.58.49.jpeg](data:image/jpeg;base64,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)"
      ],
      "metadata": {
        "id": "8tpB-HoAdft2"
      }
    },
    {
      "cell_type": "markdown",
      "source": [
        "##### **Project Type**    - Regression\n",
        "##### **Contribution**    - Individual\n",
        "##### **Team Member 1 -** - Mansi Kaushik\n"
      ],
      "metadata": {
        "id": "beRrZCGUAJYm"
      }
    },
    {
      "cell_type": "markdown",
      "source": [
        "# **Project Summary -**"
      ],
      "metadata": {
        "id": "FJNUwmbgGyua"
      }
    },
    {
      "cell_type": "markdown",
      "source": [
        "Write the summary here within 500-600 words.\n",
        "\n",
        "This dataset is a live dataset of Roseman Stores. On analsysing this problem we observe that Roseman problem is a regression problem and our primarily goal is to predict the sales figures of Roseman problem. In this Notebook we work on following topics\n",
        "\n",
        "Analysing the Dataset by using Exploratory Data Analysis. Using Exponential Moving Averages analyse Trends and Seasonality in Roseman dataset. Analyse Regression analysis using following prediction analysis, A. Linear Regression Analysis B. Elastic Regression ( Lasso and Ridge Regression). C. Random Forest Regression. d.adaboost and Xgboost).\n",
        "\n",
        "By applying above algorthim we find accuracy of 98% by Xgboost."
      ],
      "metadata": {
        "id": "F6v_1wHtG2nS"
      }
    },
    {
      "cell_type": "markdown",
      "source": [
        "# **GitHub Link -**"
      ],
      "metadata": {
        "id": "w6K7xa23Elo4"
      }
    },
    {
      "cell_type": "markdown",
      "source": [
        "Provide your GitHub Link here.\n",
        "\n",
        "https://github.com/MansiKaushik123/Retail_Sales_Prediction"
      ],
      "metadata": {
        "id": "h1o69JH3Eqqn"
      }
    },
    {
      "cell_type": "markdown",
      "source": [
        "# **Problem Statement**\n"
      ],
      "metadata": {
        "id": "yQaldy8SH6Dl"
      }
    },
    {
      "cell_type": "markdown",
      "source": [
        "**Write Problem Statement Here.**\n",
        "\n",
        "\n",
        "Rossmann operates over 3,000 drug stores in 7 European countries. Currently, Rossmann store managers are tasked with predicting their daily sales for up to six weeks in advance. Store sales are influenced by many factors, including promotions, competition, school and state holidays, seasonality, and locality. With thousands of individual managers predicting sales based on their unique circumstances, the accuracy of results can be quite varied. You are provided with historical sales data for 1,115 Rossmann stores. The task is to forecast the \"Sales\" column for the test set. Note that some stores in the dataset were temporarily closed for refurbishment."
      ],
      "metadata": {
        "id": "DpeJGUA3kjGy"
      }
    },
    {
      "cell_type": "markdown",
      "source": [
        "# **Data Overview**\n"
      ],
      "metadata": {
        "id": "1tgh10tfly0c"
      }
    },
    {
      "cell_type": "markdown",
      "source": [
        "**Rossmann Srores Data.csv---Historical data including Revenue**\n",
        "\n",
        "**store.csv - supplemental information about the store**"
      ],
      "metadata": {
        "id": "8fflU2DBn2D5"
      }
    },
    {
      "cell_type": "markdown",
      "source": [
        "# **General Guidelines** : -  "
      ],
      "metadata": {
        "id": "mDgbUHAGgjLW"
      }
    },
    {
      "cell_type": "markdown",
      "source": [
        "1.   Well-structured, formatted, and commented code is required.\n",
        "2.   Exception Handling, Production Grade Code & Deployment Ready Code will be a plus. Those students will be awarded some additional credits.\n",
        "     \n",
        "     The additional credits will have advantages over other students during Star Student selection.\n",
        "       \n",
        "             [ Note: - Deployment Ready Code is defined as, the whole .ipynb notebook should be executable in one go\n",
        "                       without a single error logged. ]\n",
        "\n",
        "3.   Each and every logic should have proper comments.\n",
        "4. You may add as many number of charts you want. Make Sure for each and every chart the following format should be answered.\n",
        "        \n",
        "\n",
        "```\n",
        "# Chart visualization code\n",
        "```\n",
        "            \n",
        "\n",
        "*   Why did you pick the specific chart?\n",
        "*   What is/are the insight(s) found from the chart?\n",
        "* Will the gained insights help creating a positive business impact?\n",
        "Are there any insights that lead to negative growth? Justify with specific reason.\n",
        "\n",
        "5. You have to create at least 15 logical & meaningful charts having important insights.\n",
        "\n",
        "\n",
        "[ Hints : - Do the Vizualization in  a structured way while following \"UBM\" Rule.\n",
        "\n",
        "U - Univariate Analysis,\n",
        "\n",
        "B - Bivariate Analysis (Numerical - Categorical, Numerical - Numerical, Categorical - Categorical)\n",
        "\n",
        "M - Multivariate Analysis\n",
        " ]\n",
        "\n",
        "\n",
        "\n",
        "\n",
        "\n",
        "6. You may add more ml algorithms for model creation. Make sure for each and every algorithm, the following format should be answered.\n",
        "\n",
        "\n",
        "*   Explain the ML Model used and it's performance using Evaluation metric Score Chart.\n",
        "\n",
        "\n",
        "*   Cross- Validation & Hyperparameter Tuning\n",
        "\n",
        "*   Have you seen any improvement? Note down the improvement with updates Evaluation metric Score Chart.\n",
        "\n",
        "*   Explain each evaluation metric's indication towards business and the business impact pf the ML model used.\n",
        "\n",
        "\n",
        "\n",
        "\n",
        "\n",
        "\n",
        "\n",
        "\n",
        "\n",
        "\n",
        "\n",
        "\n",
        "\n",
        "\n",
        "\n",
        "\n",
        "\n",
        "\n"
      ],
      "metadata": {
        "id": "ZrxVaUj-hHfC"
      }
    },
    {
      "cell_type": "markdown",
      "source": [
        "# ***Let's Begin !***"
      ],
      "metadata": {
        "id": "O_i_v8NEhb9l"
      }
    },
    {
      "cell_type": "markdown",
      "source": [
        "## ***1. Know Your Data***"
      ],
      "metadata": {
        "id": "HhfV-JJviCcP"
      }
    },
    {
      "cell_type": "markdown",
      "source": [
        "### Import Libraries"
      ],
      "metadata": {
        "id": "Y3lxredqlCYt"
      }
    },
    {
      "cell_type": "code",
      "source": [
        "# Import Libraries"
      ],
      "metadata": {
        "id": "M8Vqi-pPk-HR"
      },
      "execution_count": null,
      "outputs": []
    },
    {
      "cell_type": "markdown",
      "source": [
        "### Dataset Loading"
      ],
      "metadata": {
        "id": "3RnN4peoiCZX"
      }
    },
    {
      "cell_type": "code",
      "source": [
        "# Load Dataset"
      ],
      "metadata": {
        "id": "4CkvbW_SlZ_R"
      },
      "execution_count": null,
      "outputs": []
    },
    {
      "cell_type": "markdown",
      "source": [
        "### Dataset First View"
      ],
      "metadata": {
        "id": "x71ZqKXriCWQ"
      }
    },
    {
      "cell_type": "code",
      "source": [
        "# Dataset First Look"
      ],
      "metadata": {
        "id": "LWNFOSvLl09H"
      },
      "execution_count": null,
      "outputs": []
    },
    {
      "cell_type": "markdown",
      "source": [
        "### Dataset Rows & Columns count"
      ],
      "metadata": {
        "id": "7hBIi_osiCS2"
      }
    },
    {
      "cell_type": "code",
      "source": [
        "# Dataset Rows & Columns count"
      ],
      "metadata": {
        "id": "Kllu7SJgmLij"
      },
      "execution_count": null,
      "outputs": []
    },
    {
      "cell_type": "markdown",
      "source": [
        "### Dataset Information"
      ],
      "metadata": {
        "id": "JlHwYmJAmNHm"
      }
    },
    {
      "cell_type": "code",
      "source": [
        "# Dataset Info"
      ],
      "metadata": {
        "id": "e9hRXRi6meOf"
      },
      "execution_count": null,
      "outputs": []
    },
    {
      "cell_type": "markdown",
      "source": [
        "#### Duplicate Values"
      ],
      "metadata": {
        "id": "35m5QtbWiB9F"
      }
    },
    {
      "cell_type": "code",
      "source": [
        "# Dataset Duplicate Value Count"
      ],
      "metadata": {
        "id": "1sLdpKYkmox0"
      },
      "execution_count": null,
      "outputs": []
    },
    {
      "cell_type": "markdown",
      "source": [
        "#### Missing Values/Null Values"
      ],
      "metadata": {
        "id": "PoPl-ycgm1ru"
      }
    },
    {
      "cell_type": "code",
      "source": [
        "# Missing Values/Null Values Count"
      ],
      "metadata": {
        "id": "GgHWkxvamxVg"
      },
      "execution_count": null,
      "outputs": []
    },
    {
      "cell_type": "code",
      "source": [
        "# Visualizing the missing values"
      ],
      "metadata": {
        "id": "3q5wnI3om9sJ"
      },
      "execution_count": null,
      "outputs": []
    },
    {
      "cell_type": "markdown",
      "source": [
        "### What did you know about your dataset?"
      ],
      "metadata": {
        "id": "H0kj-8xxnORC"
      }
    },
    {
      "cell_type": "markdown",
      "source": [
        "Answer Here"
      ],
      "metadata": {
        "id": "gfoNAAC-nUe_"
      }
    },
    {
      "cell_type": "markdown",
      "source": [
        "## ***2. Understanding Your Variables***"
      ],
      "metadata": {
        "id": "nA9Y7ga8ng1Z"
      }
    },
    {
      "cell_type": "code",
      "source": [
        "# Dataset Columns"
      ],
      "metadata": {
        "id": "j7xfkqrt5Ag5"
      },
      "execution_count": null,
      "outputs": []
    },
    {
      "cell_type": "code",
      "source": [
        "# Dataset Describe"
      ],
      "metadata": {
        "id": "DnOaZdaE5Q5t"
      },
      "execution_count": null,
      "outputs": []
    },
    {
      "cell_type": "markdown",
      "source": [
        "### Variables Description"
      ],
      "metadata": {
        "id": "PBTbrJXOngz2"
      }
    },
    {
      "cell_type": "markdown",
      "source": [
        "Answer Here"
      ],
      "metadata": {
        "id": "aJV4KIxSnxay"
      }
    },
    {
      "cell_type": "markdown",
      "source": [
        "### Check Unique Values for each variable."
      ],
      "metadata": {
        "id": "u3PMJOP6ngxN"
      }
    },
    {
      "cell_type": "code",
      "source": [
        "# Check Unique Values for each variable."
      ],
      "metadata": {
        "id": "zms12Yq5n-jE"
      },
      "execution_count": null,
      "outputs": []
    },
    {
      "cell_type": "markdown",
      "source": [
        "## 3. ***Data Wrangling***"
      ],
      "metadata": {
        "id": "dauF4eBmngu3"
      }
    },
    {
      "cell_type": "markdown",
      "source": [
        "### Data Wrangling Code"
      ],
      "metadata": {
        "id": "bKJF3rekwFvQ"
      }
    },
    {
      "cell_type": "code",
      "source": [
        "# Write your code to make your dataset analysis ready."
      ],
      "metadata": {
        "id": "wk-9a2fpoLcV"
      },
      "execution_count": null,
      "outputs": []
    },
    {
      "cell_type": "markdown",
      "source": [
        "### What all manipulations have you done and insights you found?"
      ],
      "metadata": {
        "id": "MSa1f5Uengrz"
      }
    },
    {
      "cell_type": "markdown",
      "source": [
        "Answer Here."
      ],
      "metadata": {
        "id": "LbyXE7I1olp8"
      }
    },
    {
      "cell_type": "markdown",
      "source": [
        "## ***4. Data Vizualization, Storytelling & Experimenting with charts : Understand the relationships between variables***"
      ],
      "metadata": {
        "id": "GF8Ens_Soomf"
      }
    },
    {
      "cell_type": "markdown",
      "source": [
        "#### Chart - 1"
      ],
      "metadata": {
        "id": "0wOQAZs5pc--"
      }
    },
    {
      "cell_type": "code",
      "source": [
        "# Chart - 1 visualization code"
      ],
      "metadata": {
        "id": "7v_ESjsspbW7"
      },
      "execution_count": null,
      "outputs": []
    },
    {
      "cell_type": "markdown",
      "source": [
        "##### 1. Why did you pick the specific chart?"
      ],
      "metadata": {
        "id": "K5QZ13OEpz2H"
      }
    },
    {
      "cell_type": "markdown",
      "source": [
        "Answer Here."
      ],
      "metadata": {
        "id": "XESiWehPqBRc"
      }
    },
    {
      "cell_type": "markdown",
      "source": [
        "##### 2. What is/are the insight(s) found from the chart?"
      ],
      "metadata": {
        "id": "lQ7QKXXCp7Bj"
      }
    },
    {
      "cell_type": "markdown",
      "source": [
        "Answer Here"
      ],
      "metadata": {
        "id": "C_j1G7yiqdRP"
      }
    },
    {
      "cell_type": "markdown",
      "source": [
        "##### 3. Will the gained insights help creating a positive business impact?\n",
        "Are there any insights that lead to negative growth? Justify with specific reason."
      ],
      "metadata": {
        "id": "448CDAPjqfQr"
      }
    },
    {
      "cell_type": "markdown",
      "source": [
        "Answer Here"
      ],
      "metadata": {
        "id": "3cspy4FjqxJW"
      }
    },
    {
      "cell_type": "markdown",
      "source": [
        "#### Chart - 2"
      ],
      "metadata": {
        "id": "KSlN3yHqYklG"
      }
    },
    {
      "cell_type": "code",
      "source": [
        "# Chart - 2 visualization code"
      ],
      "metadata": {
        "id": "R4YgtaqtYklH"
      },
      "execution_count": null,
      "outputs": []
    },
    {
      "cell_type": "markdown",
      "source": [
        "##### 1. Why did you pick the specific chart?"
      ],
      "metadata": {
        "id": "t6dVpIINYklI"
      }
    },
    {
      "cell_type": "markdown",
      "source": [
        "Answer Here."
      ],
      "metadata": {
        "id": "5aaW0BYyYklI"
      }
    },
    {
      "cell_type": "markdown",
      "source": [
        "##### 2. What is/are the insight(s) found from the chart?"
      ],
      "metadata": {
        "id": "ijmpgYnKYklI"
      }
    },
    {
      "cell_type": "markdown",
      "source": [
        "Answer Here"
      ],
      "metadata": {
        "id": "PSx9atu2YklI"
      }
    },
    {
      "cell_type": "markdown",
      "source": [
        "##### 3. Will the gained insights help creating a positive business impact?\n",
        "Are there any insights that lead to negative growth? Justify with specific reason."
      ],
      "metadata": {
        "id": "-JiQyfWJYklI"
      }
    },
    {
      "cell_type": "markdown",
      "source": [
        "Answer Here"
      ],
      "metadata": {
        "id": "BcBbebzrYklV"
      }
    },
    {
      "cell_type": "markdown",
      "source": [
        "#### Chart - 3"
      ],
      "metadata": {
        "id": "EM7whBJCYoAo"
      }
    },
    {
      "cell_type": "code",
      "source": [
        "# Chart - 3 visualization code"
      ],
      "metadata": {
        "id": "t6GMdE67YoAp"
      },
      "execution_count": null,
      "outputs": []
    },
    {
      "cell_type": "markdown",
      "source": [
        "##### 1. Why did you pick the specific chart?"
      ],
      "metadata": {
        "id": "fge-S5ZAYoAp"
      }
    },
    {
      "cell_type": "markdown",
      "source": [
        "Answer Here."
      ],
      "metadata": {
        "id": "5dBItgRVYoAp"
      }
    },
    {
      "cell_type": "markdown",
      "source": [
        "##### 2. What is/are the insight(s) found from the chart?"
      ],
      "metadata": {
        "id": "85gYPyotYoAp"
      }
    },
    {
      "cell_type": "markdown",
      "source": [
        "Answer Here"
      ],
      "metadata": {
        "id": "4jstXR6OYoAp"
      }
    },
    {
      "cell_type": "markdown",
      "source": [
        "##### 3. Will the gained insights help creating a positive business impact?\n",
        "Are there any insights that lead to negative growth? Justify with specific reason."
      ],
      "metadata": {
        "id": "RoGjAbkUYoAp"
      }
    },
    {
      "cell_type": "markdown",
      "source": [
        "Answer Here"
      ],
      "metadata": {
        "id": "zfJ8IqMcYoAp"
      }
    },
    {
      "cell_type": "markdown",
      "source": [
        "#### Chart - 4"
      ],
      "metadata": {
        "id": "4Of9eVA-YrdM"
      }
    },
    {
      "cell_type": "code",
      "source": [
        "# Chart - 4 visualization code"
      ],
      "metadata": {
        "id": "irlUoxc8YrdO"
      },
      "execution_count": null,
      "outputs": []
    },
    {
      "cell_type": "markdown",
      "source": [
        "##### 1. Why did you pick the specific chart?"
      ],
      "metadata": {
        "id": "iky9q4vBYrdO"
      }
    },
    {
      "cell_type": "markdown",
      "source": [
        "Answer Here."
      ],
      "metadata": {
        "id": "aJRCwT6DYrdO"
      }
    },
    {
      "cell_type": "markdown",
      "source": [
        "##### 2. What is/are the insight(s) found from the chart?"
      ],
      "metadata": {
        "id": "F6T5p64dYrdO"
      }
    },
    {
      "cell_type": "markdown",
      "source": [
        "Answer Here"
      ],
      "metadata": {
        "id": "Xx8WAJvtYrdO"
      }
    },
    {
      "cell_type": "markdown",
      "source": [
        "##### 3. Will the gained insights help creating a positive business impact?\n",
        "Are there any insights that lead to negative growth? Justify with specific reason."
      ],
      "metadata": {
        "id": "y-Ehk30pYrdP"
      }
    },
    {
      "cell_type": "markdown",
      "source": [
        "Answer Here"
      ],
      "metadata": {
        "id": "jLNxxz7MYrdP"
      }
    },
    {
      "cell_type": "markdown",
      "source": [
        "#### Chart - 5"
      ],
      "metadata": {
        "id": "bamQiAODYuh1"
      }
    },
    {
      "cell_type": "code",
      "source": [
        "# Chart - 5 visualization code"
      ],
      "metadata": {
        "id": "TIJwrbroYuh3"
      },
      "execution_count": null,
      "outputs": []
    },
    {
      "cell_type": "markdown",
      "source": [
        "##### 1. Why did you pick the specific chart?"
      ],
      "metadata": {
        "id": "QHF8YVU7Yuh3"
      }
    },
    {
      "cell_type": "markdown",
      "source": [
        "Answer Here."
      ],
      "metadata": {
        "id": "dcxuIMRPYuh3"
      }
    },
    {
      "cell_type": "markdown",
      "source": [
        "##### 2. What is/are the insight(s) found from the chart?"
      ],
      "metadata": {
        "id": "GwzvFGzlYuh3"
      }
    },
    {
      "cell_type": "markdown",
      "source": [
        "Answer Here"
      ],
      "metadata": {
        "id": "uyqkiB8YYuh3"
      }
    },
    {
      "cell_type": "markdown",
      "source": [
        "##### 3. Will the gained insights help creating a positive business impact?\n",
        "Are there any insights that lead to negative growth? Justify with specific reason."
      ],
      "metadata": {
        "id": "qYpmQ266Yuh3"
      }
    },
    {
      "cell_type": "markdown",
      "source": [
        "Answer Here"
      ],
      "metadata": {
        "id": "_WtzZ_hCYuh4"
      }
    },
    {
      "cell_type": "markdown",
      "source": [
        "#### Chart - 6"
      ],
      "metadata": {
        "id": "OH-pJp9IphqM"
      }
    },
    {
      "cell_type": "code",
      "source": [
        "# Chart - 6 visualization code"
      ],
      "metadata": {
        "id": "kuRf4wtuphqN"
      },
      "execution_count": null,
      "outputs": []
    },
    {
      "cell_type": "markdown",
      "source": [
        "##### 1. Why did you pick the specific chart?"
      ],
      "metadata": {
        "id": "bbFf2-_FphqN"
      }
    },
    {
      "cell_type": "markdown",
      "source": [
        "Answer Here."
      ],
      "metadata": {
        "id": "loh7H2nzphqN"
      }
    },
    {
      "cell_type": "markdown",
      "source": [
        "##### 2. What is/are the insight(s) found from the chart?"
      ],
      "metadata": {
        "id": "_ouA3fa0phqN"
      }
    },
    {
      "cell_type": "markdown",
      "source": [
        "Answer Here"
      ],
      "metadata": {
        "id": "VECbqPI7phqN"
      }
    },
    {
      "cell_type": "markdown",
      "source": [
        "##### 3. Will the gained insights help creating a positive business impact?\n",
        "Are there any insights that lead to negative growth? Justify with specific reason."
      ],
      "metadata": {
        "id": "Seke61FWphqN"
      }
    },
    {
      "cell_type": "markdown",
      "source": [
        "Answer Here"
      ],
      "metadata": {
        "id": "DW4_bGpfphqN"
      }
    },
    {
      "cell_type": "markdown",
      "source": [
        "#### Chart - 7"
      ],
      "metadata": {
        "id": "PIIx-8_IphqN"
      }
    },
    {
      "cell_type": "code",
      "source": [
        "# Chart - 7 visualization code"
      ],
      "metadata": {
        "id": "lqAIGUfyphqO"
      },
      "execution_count": null,
      "outputs": []
    },
    {
      "cell_type": "markdown",
      "source": [
        "##### 1. Why did you pick the specific chart?"
      ],
      "metadata": {
        "id": "t27r6nlMphqO"
      }
    },
    {
      "cell_type": "markdown",
      "source": [
        "Answer Here."
      ],
      "metadata": {
        "id": "iv6ro40sphqO"
      }
    },
    {
      "cell_type": "markdown",
      "source": [
        "##### 2. What is/are the insight(s) found from the chart?"
      ],
      "metadata": {
        "id": "r2jJGEOYphqO"
      }
    },
    {
      "cell_type": "markdown",
      "source": [
        "Answer Here"
      ],
      "metadata": {
        "id": "Po6ZPi4hphqO"
      }
    },
    {
      "cell_type": "markdown",
      "source": [
        "##### 3. Will the gained insights help creating a positive business impact?\n",
        "Are there any insights that lead to negative growth? Justify with specific reason."
      ],
      "metadata": {
        "id": "b0JNsNcRphqO"
      }
    },
    {
      "cell_type": "markdown",
      "source": [
        "Answer Here"
      ],
      "metadata": {
        "id": "xvSq8iUTphqO"
      }
    },
    {
      "cell_type": "markdown",
      "source": [
        "#### Chart - 8"
      ],
      "metadata": {
        "id": "BZR9WyysphqO"
      }
    },
    {
      "cell_type": "code",
      "source": [
        "# Chart - 8 visualization code"
      ],
      "metadata": {
        "id": "TdPTWpAVphqO"
      },
      "execution_count": null,
      "outputs": []
    },
    {
      "cell_type": "markdown",
      "source": [
        "##### 1. Why did you pick the specific chart?"
      ],
      "metadata": {
        "id": "jj7wYXLtphqO"
      }
    },
    {
      "cell_type": "markdown",
      "source": [
        "Answer Here."
      ],
      "metadata": {
        "id": "Ob8u6rCTphqO"
      }
    },
    {
      "cell_type": "markdown",
      "source": [
        "##### 2. What is/are the insight(s) found from the chart?"
      ],
      "metadata": {
        "id": "eZrbJ2SmphqO"
      }
    },
    {
      "cell_type": "markdown",
      "source": [
        "Answer Here"
      ],
      "metadata": {
        "id": "mZtgC_hjphqO"
      }
    },
    {
      "cell_type": "markdown",
      "source": [
        "##### 3. Will the gained insights help creating a positive business impact?\n",
        "Are there any insights that lead to negative growth? Justify with specific reason."
      ],
      "metadata": {
        "id": "rFu4xreNphqO"
      }
    },
    {
      "cell_type": "markdown",
      "source": [
        "Answer Here"
      ],
      "metadata": {
        "id": "ey_0qi68phqO"
      }
    },
    {
      "cell_type": "markdown",
      "source": [
        "#### Chart - 9"
      ],
      "metadata": {
        "id": "YJ55k-q6phqO"
      }
    },
    {
      "cell_type": "code",
      "source": [
        "# Chart - 9 visualization code"
      ],
      "metadata": {
        "id": "B2aS4O1ophqO"
      },
      "execution_count": null,
      "outputs": []
    },
    {
      "cell_type": "markdown",
      "source": [
        "##### 1. Why did you pick the specific chart?"
      ],
      "metadata": {
        "id": "gCFgpxoyphqP"
      }
    },
    {
      "cell_type": "markdown",
      "source": [
        "Answer Here."
      ],
      "metadata": {
        "id": "TVxDimi2phqP"
      }
    },
    {
      "cell_type": "markdown",
      "source": [
        "##### 2. What is/are the insight(s) found from the chart?"
      ],
      "metadata": {
        "id": "OVtJsKN_phqQ"
      }
    },
    {
      "cell_type": "markdown",
      "source": [
        "Answer Here"
      ],
      "metadata": {
        "id": "ngGi97qjphqQ"
      }
    },
    {
      "cell_type": "markdown",
      "source": [
        "##### 3. Will the gained insights help creating a positive business impact?\n",
        "Are there any insights that lead to negative growth? Justify with specific reason."
      ],
      "metadata": {
        "id": "lssrdh5qphqQ"
      }
    },
    {
      "cell_type": "markdown",
      "source": [
        "Answer Here"
      ],
      "metadata": {
        "id": "tBpY5ekJphqQ"
      }
    },
    {
      "cell_type": "markdown",
      "source": [
        "#### Chart - 10"
      ],
      "metadata": {
        "id": "U2RJ9gkRphqQ"
      }
    },
    {
      "cell_type": "code",
      "source": [
        "# Chart - 10 visualization code"
      ],
      "metadata": {
        "id": "GM7a4YP4phqQ"
      },
      "execution_count": null,
      "outputs": []
    },
    {
      "cell_type": "markdown",
      "source": [
        "##### 1. Why did you pick the specific chart?"
      ],
      "metadata": {
        "id": "1M8mcRywphqQ"
      }
    },
    {
      "cell_type": "markdown",
      "source": [
        "Answer Here."
      ],
      "metadata": {
        "id": "8agQvks0phqQ"
      }
    },
    {
      "cell_type": "markdown",
      "source": [
        "##### 2. What is/are the insight(s) found from the chart?"
      ],
      "metadata": {
        "id": "tgIPom80phqQ"
      }
    },
    {
      "cell_type": "markdown",
      "source": [
        "Answer Here"
      ],
      "metadata": {
        "id": "Qp13pnNzphqQ"
      }
    },
    {
      "cell_type": "markdown",
      "source": [
        "##### 3. Will the gained insights help creating a positive business impact?\n",
        "Are there any insights that lead to negative growth? Justify with specific reason."
      ],
      "metadata": {
        "id": "JMzcOPDDphqR"
      }
    },
    {
      "cell_type": "markdown",
      "source": [
        "Answer Here"
      ],
      "metadata": {
        "id": "R4Ka1PC2phqR"
      }
    },
    {
      "cell_type": "markdown",
      "source": [
        "#### Chart - 11"
      ],
      "metadata": {
        "id": "x-EpHcCOp1ci"
      }
    },
    {
      "cell_type": "code",
      "source": [
        "# Chart - 11 visualization code"
      ],
      "metadata": {
        "id": "mAQTIvtqp1cj"
      },
      "execution_count": null,
      "outputs": []
    },
    {
      "cell_type": "markdown",
      "source": [
        "##### 1. Why did you pick the specific chart?"
      ],
      "metadata": {
        "id": "X_VqEhTip1ck"
      }
    },
    {
      "cell_type": "markdown",
      "source": [
        "Answer Here."
      ],
      "metadata": {
        "id": "-vsMzt_np1ck"
      }
    },
    {
      "cell_type": "markdown",
      "source": [
        "##### 2. What is/are the insight(s) found from the chart?"
      ],
      "metadata": {
        "id": "8zGJKyg5p1ck"
      }
    },
    {
      "cell_type": "markdown",
      "source": [
        "Answer Here"
      ],
      "metadata": {
        "id": "ZYdMsrqVp1ck"
      }
    },
    {
      "cell_type": "markdown",
      "source": [
        "##### 3. Will the gained insights help creating a positive business impact?\n",
        "Are there any insights that lead to negative growth? Justify with specific reason."
      ],
      "metadata": {
        "id": "PVzmfK_Ep1ck"
      }
    },
    {
      "cell_type": "markdown",
      "source": [
        "Answer Here"
      ],
      "metadata": {
        "id": "druuKYZpp1ck"
      }
    },
    {
      "cell_type": "markdown",
      "source": [
        "#### Chart - 12"
      ],
      "metadata": {
        "id": "n3dbpmDWp1ck"
      }
    },
    {
      "cell_type": "code",
      "source": [
        "# Chart - 12 visualization code"
      ],
      "metadata": {
        "id": "bwevp1tKp1ck"
      },
      "execution_count": null,
      "outputs": []
    },
    {
      "cell_type": "markdown",
      "source": [
        "##### 1. Why did you pick the specific chart?"
      ],
      "metadata": {
        "id": "ylSl6qgtp1ck"
      }
    },
    {
      "cell_type": "markdown",
      "source": [
        "Answer Here."
      ],
      "metadata": {
        "id": "m2xqNkiQp1ck"
      }
    },
    {
      "cell_type": "markdown",
      "source": [
        "##### 2. What is/are the insight(s) found from the chart?"
      ],
      "metadata": {
        "id": "ZWILFDl5p1ck"
      }
    },
    {
      "cell_type": "markdown",
      "source": [
        "Answer Here"
      ],
      "metadata": {
        "id": "x-lUsV2mp1ck"
      }
    },
    {
      "cell_type": "markdown",
      "source": [
        "##### 3. Will the gained insights help creating a positive business impact?\n",
        "Are there any insights that lead to negative growth? Justify with specific reason."
      ],
      "metadata": {
        "id": "M7G43BXep1ck"
      }
    },
    {
      "cell_type": "markdown",
      "source": [
        "Answer Here"
      ],
      "metadata": {
        "id": "5wwDJXsLp1cl"
      }
    },
    {
      "cell_type": "markdown",
      "source": [
        "#### Chart - 13"
      ],
      "metadata": {
        "id": "Ag9LCva-p1cl"
      }
    },
    {
      "cell_type": "code",
      "source": [
        "# Chart - 13 visualization code"
      ],
      "metadata": {
        "id": "EUfxeq9-p1cl"
      },
      "execution_count": null,
      "outputs": []
    },
    {
      "cell_type": "markdown",
      "source": [
        "##### 1. Why did you pick the specific chart?"
      ],
      "metadata": {
        "id": "E6MkPsBcp1cl"
      }
    },
    {
      "cell_type": "markdown",
      "source": [
        "Answer Here."
      ],
      "metadata": {
        "id": "V22bRsFWp1cl"
      }
    },
    {
      "cell_type": "markdown",
      "source": [
        "##### 2. What is/are the insight(s) found from the chart?"
      ],
      "metadata": {
        "id": "2cELzS2fp1cl"
      }
    },
    {
      "cell_type": "markdown",
      "source": [
        "Answer Here"
      ],
      "metadata": {
        "id": "ozQPc2_Ip1cl"
      }
    },
    {
      "cell_type": "markdown",
      "source": [
        "##### 3. Will the gained insights help creating a positive business impact?\n",
        "Are there any insights that lead to negative growth? Justify with specific reason."
      ],
      "metadata": {
        "id": "3MPXvC8up1cl"
      }
    },
    {
      "cell_type": "markdown",
      "source": [
        "Answer Here"
      ],
      "metadata": {
        "id": "GL8l1tdLp1cl"
      }
    },
    {
      "cell_type": "markdown",
      "source": [
        "#### Chart - 14 - Correlation Heatmap"
      ],
      "metadata": {
        "id": "NC_X3p0fY2L0"
      }
    },
    {
      "cell_type": "code",
      "source": [
        "# Correlation Heatmap visualization code"
      ],
      "metadata": {
        "id": "xyC9zolEZNRQ"
      },
      "execution_count": null,
      "outputs": []
    },
    {
      "cell_type": "markdown",
      "source": [
        "##### 1. Why did you pick the specific chart?"
      ],
      "metadata": {
        "id": "UV0SzAkaZNRQ"
      }
    },
    {
      "cell_type": "markdown",
      "source": [
        "Answer Here."
      ],
      "metadata": {
        "id": "DVPuT8LYZNRQ"
      }
    },
    {
      "cell_type": "markdown",
      "source": [
        "##### 2. What is/are the insight(s) found from the chart?"
      ],
      "metadata": {
        "id": "YPEH6qLeZNRQ"
      }
    },
    {
      "cell_type": "markdown",
      "source": [
        "Answer Here"
      ],
      "metadata": {
        "id": "bfSqtnDqZNRR"
      }
    },
    {
      "cell_type": "markdown",
      "source": [
        "#### Chart - 15 - Pair Plot"
      ],
      "metadata": {
        "id": "q29F0dvdveiT"
      }
    },
    {
      "cell_type": "code",
      "source": [
        "# Pair Plot visualization code"
      ],
      "metadata": {
        "id": "o58-TEIhveiU"
      },
      "execution_count": null,
      "outputs": []
    },
    {
      "cell_type": "markdown",
      "source": [
        "##### 1. Why did you pick the specific chart?"
      ],
      "metadata": {
        "id": "EXh0U9oCveiU"
      }
    },
    {
      "cell_type": "markdown",
      "source": [
        "Answer Here."
      ],
      "metadata": {
        "id": "eMmPjTByveiU"
      }
    },
    {
      "cell_type": "markdown",
      "source": [
        "##### 2. What is/are the insight(s) found from the chart?"
      ],
      "metadata": {
        "id": "22aHeOlLveiV"
      }
    },
    {
      "cell_type": "markdown",
      "source": [
        "Answer Here"
      ],
      "metadata": {
        "id": "uPQ8RGwHveiV"
      }
    },
    {
      "cell_type": "markdown",
      "source": [
        "## ***5. Hypothesis Testing***"
      ],
      "metadata": {
        "id": "g-ATYxFrGrvw"
      }
    },
    {
      "cell_type": "markdown",
      "source": [
        "### Based on your chart experiments, define three hypothetical statements from the dataset. In the next three questions, perform hypothesis testing to obtain final conclusion about the statements through your code and statistical testing."
      ],
      "metadata": {
        "id": "Yfr_Vlr8HBkt"
      }
    },
    {
      "cell_type": "markdown",
      "source": [
        "Answer Here."
      ],
      "metadata": {
        "id": "-7MS06SUHkB-"
      }
    },
    {
      "cell_type": "markdown",
      "source": [
        "### Hypothetical Statement - 1"
      ],
      "metadata": {
        "id": "8yEUt7NnHlrM"
      }
    },
    {
      "cell_type": "markdown",
      "source": [
        "#### 1. State Your research hypothesis as a null hypothesis and alternate hypothesis."
      ],
      "metadata": {
        "id": "tEA2Xm5dHt1r"
      }
    },
    {
      "cell_type": "markdown",
      "source": [
        "Answer Here."
      ],
      "metadata": {
        "id": "HI9ZP0laH0D-"
      }
    },
    {
      "cell_type": "markdown",
      "source": [
        "#### 2. Perform an appropriate statistical test."
      ],
      "metadata": {
        "id": "I79__PHVH19G"
      }
    },
    {
      "cell_type": "code",
      "source": [
        "# Perform Statistical Test to obtain P-Value"
      ],
      "metadata": {
        "id": "oZrfquKtyian"
      },
      "execution_count": null,
      "outputs": []
    },
    {
      "cell_type": "markdown",
      "source": [
        "##### Which statistical test have you done to obtain P-Value?"
      ],
      "metadata": {
        "id": "Ou-I18pAyIpj"
      }
    },
    {
      "cell_type": "markdown",
      "source": [
        "Answer Here."
      ],
      "metadata": {
        "id": "s2U0kk00ygSB"
      }
    },
    {
      "cell_type": "markdown",
      "source": [
        "##### Why did you choose the specific statistical test?"
      ],
      "metadata": {
        "id": "fF3858GYyt-u"
      }
    },
    {
      "cell_type": "markdown",
      "source": [
        "Answer Here."
      ],
      "metadata": {
        "id": "HO4K0gP5y3B4"
      }
    },
    {
      "cell_type": "markdown",
      "source": [
        "### Hypothetical Statement - 2"
      ],
      "metadata": {
        "id": "4_0_7-oCpUZd"
      }
    },
    {
      "cell_type": "markdown",
      "source": [
        "#### 1. State Your research hypothesis as a null hypothesis and alternate hypothesis."
      ],
      "metadata": {
        "id": "hwyV_J3ipUZe"
      }
    },
    {
      "cell_type": "markdown",
      "source": [
        "Answer Here."
      ],
      "metadata": {
        "id": "FnpLGJ-4pUZe"
      }
    },
    {
      "cell_type": "markdown",
      "source": [
        "#### 2. Perform an appropriate statistical test."
      ],
      "metadata": {
        "id": "3yB-zSqbpUZe"
      }
    },
    {
      "cell_type": "code",
      "source": [
        "# Perform Statistical Test to obtain P-Value"
      ],
      "metadata": {
        "id": "sWxdNTXNpUZe"
      },
      "execution_count": null,
      "outputs": []
    },
    {
      "cell_type": "markdown",
      "source": [
        "##### Which statistical test have you done to obtain P-Value?"
      ],
      "metadata": {
        "id": "dEUvejAfpUZe"
      }
    },
    {
      "cell_type": "markdown",
      "source": [
        "Answer Here."
      ],
      "metadata": {
        "id": "oLDrPz7HpUZf"
      }
    },
    {
      "cell_type": "markdown",
      "source": [
        "##### Why did you choose the specific statistical test?"
      ],
      "metadata": {
        "id": "Fd15vwWVpUZf"
      }
    },
    {
      "cell_type": "markdown",
      "source": [
        "Answer Here."
      ],
      "metadata": {
        "id": "4xOGYyiBpUZf"
      }
    },
    {
      "cell_type": "markdown",
      "source": [
        "### Hypothetical Statement - 3"
      ],
      "metadata": {
        "id": "bn_IUdTipZyH"
      }
    },
    {
      "cell_type": "markdown",
      "source": [
        "#### 1. State Your research hypothesis as a null hypothesis and alternate hypothesis."
      ],
      "metadata": {
        "id": "49K5P_iCpZyH"
      }
    },
    {
      "cell_type": "markdown",
      "source": [
        "Answer Here."
      ],
      "metadata": {
        "id": "7gWI5rT9pZyH"
      }
    },
    {
      "cell_type": "markdown",
      "source": [
        "#### 2. Perform an appropriate statistical test."
      ],
      "metadata": {
        "id": "Nff-vKELpZyI"
      }
    },
    {
      "cell_type": "code",
      "source": [
        "# Perform Statistical Test to obtain P-Value"
      ],
      "metadata": {
        "id": "s6AnJQjtpZyI"
      },
      "execution_count": null,
      "outputs": []
    },
    {
      "cell_type": "markdown",
      "source": [
        "##### Which statistical test have you done to obtain P-Value?"
      ],
      "metadata": {
        "id": "kLW572S8pZyI"
      }
    },
    {
      "cell_type": "markdown",
      "source": [
        "Answer Here."
      ],
      "metadata": {
        "id": "ytWJ8v15pZyI"
      }
    },
    {
      "cell_type": "markdown",
      "source": [
        "##### Why did you choose the specific statistical test?"
      ],
      "metadata": {
        "id": "dWbDXHzopZyI"
      }
    },
    {
      "cell_type": "markdown",
      "source": [
        "Answer Here."
      ],
      "metadata": {
        "id": "M99G98V6pZyI"
      }
    },
    {
      "cell_type": "markdown",
      "source": [
        "## ***6. Feature Engineering & Data Pre-processing***"
      ],
      "metadata": {
        "id": "yLjJCtPM0KBk"
      }
    },
    {
      "cell_type": "markdown",
      "source": [
        "### 1. Handling Missing Values"
      ],
      "metadata": {
        "id": "xiyOF9F70UgQ"
      }
    },
    {
      "cell_type": "code",
      "source": [
        "# Handling Missing Values & Missing Value Imputation"
      ],
      "metadata": {
        "id": "iRsAHk1K0fpS"
      },
      "execution_count": null,
      "outputs": []
    },
    {
      "cell_type": "markdown",
      "source": [
        "#### What all missing value imputation techniques have you used and why did you use those techniques?"
      ],
      "metadata": {
        "id": "7wuGOrhz0itI"
      }
    },
    {
      "cell_type": "markdown",
      "source": [
        "Answer Here."
      ],
      "metadata": {
        "id": "1ixusLtI0pqI"
      }
    },
    {
      "cell_type": "markdown",
      "source": [
        "### 2. Handling Outliers"
      ],
      "metadata": {
        "id": "id1riN9m0vUs"
      }
    },
    {
      "cell_type": "code",
      "source": [
        "# Handling Outliers & Outlier treatments"
      ],
      "metadata": {
        "id": "M6w2CzZf04JK"
      },
      "execution_count": null,
      "outputs": []
    },
    {
      "cell_type": "markdown",
      "source": [
        "##### What all outlier treatment techniques have you used and why did you use those techniques?"
      ],
      "metadata": {
        "id": "578E2V7j08f6"
      }
    },
    {
      "cell_type": "markdown",
      "source": [
        "Answer Here."
      ],
      "metadata": {
        "id": "uGZz5OrT1HH-"
      }
    },
    {
      "cell_type": "markdown",
      "source": [
        "### 3. Categorical Encoding"
      ],
      "metadata": {
        "id": "89xtkJwZ18nB"
      }
    },
    {
      "cell_type": "code",
      "source": [
        "# Encode your categorical columns"
      ],
      "metadata": {
        "id": "21JmIYMG2hEo"
      },
      "execution_count": null,
      "outputs": []
    },
    {
      "cell_type": "markdown",
      "source": [
        "#### What all categorical encoding techniques have you used & why did you use those techniques?"
      ],
      "metadata": {
        "id": "67NQN5KX2AMe"
      }
    },
    {
      "cell_type": "markdown",
      "source": [
        "Answer Here."
      ],
      "metadata": {
        "id": "UDaue5h32n_G"
      }
    },
    {
      "cell_type": "markdown",
      "source": [
        "### 4. Textual Data Preprocessing\n",
        "(It's mandatory for textual dataset i.e., NLP, Sentiment Analysis, Text Clustering etc.)"
      ],
      "metadata": {
        "id": "Iwf50b-R2tYG"
      }
    },
    {
      "cell_type": "markdown",
      "source": [
        "#### 1. Expand Contraction"
      ],
      "metadata": {
        "id": "GMQiZwjn3iu7"
      }
    },
    {
      "cell_type": "code",
      "source": [
        "# Expand Contraction"
      ],
      "metadata": {
        "id": "PTouz10C3oNN"
      },
      "execution_count": null,
      "outputs": []
    },
    {
      "cell_type": "markdown",
      "source": [
        "#### 2. Lower Casing"
      ],
      "metadata": {
        "id": "WVIkgGqN3qsr"
      }
    },
    {
      "cell_type": "code",
      "source": [
        "# Lower Casing"
      ],
      "metadata": {
        "id": "88JnJ1jN3w7j"
      },
      "execution_count": null,
      "outputs": []
    },
    {
      "cell_type": "markdown",
      "source": [
        "#### 3. Removing Punctuations"
      ],
      "metadata": {
        "id": "XkPnILGE3zoT"
      }
    },
    {
      "cell_type": "code",
      "source": [
        "# Remove Punctuations"
      ],
      "metadata": {
        "id": "vqbBqNaA33c0"
      },
      "execution_count": null,
      "outputs": []
    },
    {
      "cell_type": "markdown",
      "source": [
        "#### 4. Removing URLs & Removing words and digits contain digits."
      ],
      "metadata": {
        "id": "Hlsf0x5436Go"
      }
    },
    {
      "cell_type": "code",
      "source": [
        "# Remove URLs & Remove words and digits contain digits"
      ],
      "metadata": {
        "id": "2sxKgKxu4Ip3"
      },
      "execution_count": null,
      "outputs": []
    },
    {
      "cell_type": "markdown",
      "source": [
        "#### 5. Removing Stopwords & Removing White spaces"
      ],
      "metadata": {
        "id": "mT9DMSJo4nBL"
      }
    },
    {
      "cell_type": "code",
      "source": [
        "# Remove Stopwords"
      ],
      "metadata": {
        "id": "T2LSJh154s8W"
      },
      "execution_count": null,
      "outputs": []
    },
    {
      "cell_type": "code",
      "source": [
        "# Remove White spaces"
      ],
      "metadata": {
        "id": "EgLJGffy4vm0"
      },
      "execution_count": null,
      "outputs": []
    },
    {
      "cell_type": "markdown",
      "source": [
        "#### 6. Rephrase Text"
      ],
      "metadata": {
        "id": "c49ITxTc407N"
      }
    },
    {
      "cell_type": "code",
      "source": [
        "# Rephrase Text"
      ],
      "metadata": {
        "id": "foqY80Qu48N2"
      },
      "execution_count": null,
      "outputs": []
    },
    {
      "cell_type": "markdown",
      "source": [
        "#### 7. Tokenization"
      ],
      "metadata": {
        "id": "OeJFEK0N496M"
      }
    },
    {
      "cell_type": "code",
      "source": [
        "# Tokenization"
      ],
      "metadata": {
        "id": "ijx1rUOS5CUU"
      },
      "execution_count": null,
      "outputs": []
    },
    {
      "cell_type": "markdown",
      "source": [
        "#### 8. Text Normalization"
      ],
      "metadata": {
        "id": "9ExmJH0g5HBk"
      }
    },
    {
      "cell_type": "code",
      "source": [
        "# Normalizing Text (i.e., Stemming, Lemmatization etc.)"
      ],
      "metadata": {
        "id": "AIJ1a-Zc5PY8"
      },
      "execution_count": null,
      "outputs": []
    },
    {
      "cell_type": "markdown",
      "source": [
        "##### Which text normalization technique have you used and why?"
      ],
      "metadata": {
        "id": "cJNqERVU536h"
      }
    },
    {
      "cell_type": "markdown",
      "source": [
        "Answer Here."
      ],
      "metadata": {
        "id": "Z9jKVxE06BC1"
      }
    },
    {
      "cell_type": "markdown",
      "source": [
        "#### 9. Part of speech tagging"
      ],
      "metadata": {
        "id": "k5UmGsbsOxih"
      }
    },
    {
      "cell_type": "code",
      "source": [
        "# POS Taging"
      ],
      "metadata": {
        "id": "btT3ZJBAO6Ik"
      },
      "execution_count": null,
      "outputs": []
    },
    {
      "cell_type": "markdown",
      "source": [
        "#### 10. Text Vectorization"
      ],
      "metadata": {
        "id": "T0VqWOYE6DLQ"
      }
    },
    {
      "cell_type": "code",
      "source": [
        "# Vectorizing Text"
      ],
      "metadata": {
        "id": "yBRtdhth6JDE"
      },
      "execution_count": null,
      "outputs": []
    },
    {
      "cell_type": "markdown",
      "source": [
        "##### Which text vectorization technique have you used and why?"
      ],
      "metadata": {
        "id": "qBMux9mC6MCf"
      }
    },
    {
      "cell_type": "markdown",
      "source": [
        "Answer Here."
      ],
      "metadata": {
        "id": "su2EnbCh6UKQ"
      }
    },
    {
      "cell_type": "markdown",
      "source": [
        "### 4. Feature Manipulation & Selection"
      ],
      "metadata": {
        "id": "-oLEiFgy-5Pf"
      }
    },
    {
      "cell_type": "markdown",
      "source": [
        "#### 1. Feature Manipulation"
      ],
      "metadata": {
        "id": "C74aWNz2AliB"
      }
    },
    {
      "cell_type": "code",
      "source": [
        "# Manipulate Features to minimize feature correlation and create new features"
      ],
      "metadata": {
        "id": "h1qC4yhBApWC"
      },
      "execution_count": null,
      "outputs": []
    },
    {
      "cell_type": "markdown",
      "source": [
        "#### 2. Feature Selection"
      ],
      "metadata": {
        "id": "2DejudWSA-a0"
      }
    },
    {
      "cell_type": "code",
      "source": [
        "# Select your features wisely to avoid overfitting"
      ],
      "metadata": {
        "id": "YLhe8UmaBCEE"
      },
      "execution_count": null,
      "outputs": []
    },
    {
      "cell_type": "markdown",
      "source": [
        "##### What all feature selection methods have you used  and why?"
      ],
      "metadata": {
        "id": "pEMng2IbBLp7"
      }
    },
    {
      "cell_type": "markdown",
      "source": [
        "Answer Here."
      ],
      "metadata": {
        "id": "rb2Lh6Z8BgGs"
      }
    },
    {
      "cell_type": "markdown",
      "source": [
        "##### Which all features you found important and why?"
      ],
      "metadata": {
        "id": "rAdphbQ9Bhjc"
      }
    },
    {
      "cell_type": "markdown",
      "source": [
        "Answer Here."
      ],
      "metadata": {
        "id": "fGgaEstsBnaf"
      }
    },
    {
      "cell_type": "markdown",
      "source": [
        "### 5. Data Transformation"
      ],
      "metadata": {
        "id": "TNVZ9zx19K6k"
      }
    },
    {
      "cell_type": "markdown",
      "source": [
        "#### Do you think that your data needs to be transformed? If yes, which transformation have you used. Explain Why?"
      ],
      "metadata": {
        "id": "nqoHp30x9hH9"
      }
    },
    {
      "cell_type": "code",
      "source": [
        "# Transform Your data"
      ],
      "metadata": {
        "id": "I6quWQ1T9rtH"
      },
      "execution_count": null,
      "outputs": []
    },
    {
      "cell_type": "markdown",
      "source": [
        "### 6. Data Scaling"
      ],
      "metadata": {
        "id": "rMDnDkt2B6du"
      }
    },
    {
      "cell_type": "code",
      "source": [
        "# Scaling your data"
      ],
      "metadata": {
        "id": "dL9LWpySC6x_"
      },
      "execution_count": null,
      "outputs": []
    },
    {
      "cell_type": "markdown",
      "source": [
        "##### Which method have you used to scale you data and why?"
      ],
      "metadata": {
        "id": "yiiVWRdJDDil"
      }
    },
    {
      "cell_type": "markdown",
      "source": [
        "### 7. Dimesionality Reduction"
      ],
      "metadata": {
        "id": "1UUpS68QDMuG"
      }
    },
    {
      "cell_type": "markdown",
      "source": [
        "##### Do you think that dimensionality reduction is needed? Explain Why?"
      ],
      "metadata": {
        "id": "kexQrXU-DjzY"
      }
    },
    {
      "cell_type": "markdown",
      "source": [
        "Answer Here."
      ],
      "metadata": {
        "id": "GGRlBsSGDtTQ"
      }
    },
    {
      "cell_type": "code",
      "source": [
        "# DImensionality Reduction (If needed)"
      ],
      "metadata": {
        "id": "kQfvxBBHDvCa"
      },
      "execution_count": null,
      "outputs": []
    },
    {
      "cell_type": "markdown",
      "source": [
        "##### Which dimensionality reduction technique have you used and why? (If dimensionality reduction done on dataset.)"
      ],
      "metadata": {
        "id": "T5CmagL3EC8N"
      }
    },
    {
      "cell_type": "markdown",
      "source": [
        "Answer Here."
      ],
      "metadata": {
        "id": "ZKr75IDuEM7t"
      }
    },
    {
      "cell_type": "markdown",
      "source": [
        "### 8. Data Splitting"
      ],
      "metadata": {
        "id": "BhH2vgX9EjGr"
      }
    },
    {
      "cell_type": "code",
      "source": [
        "# Split your data to train and test. Choose Splitting ratio wisely."
      ],
      "metadata": {
        "id": "0CTyd2UwEyNM"
      },
      "execution_count": null,
      "outputs": []
    },
    {
      "cell_type": "markdown",
      "source": [
        "##### What data splitting ratio have you used and why?"
      ],
      "metadata": {
        "id": "qjKvONjwE8ra"
      }
    },
    {
      "cell_type": "markdown",
      "source": [
        "Answer Here."
      ],
      "metadata": {
        "id": "Y2lJ8cobFDb_"
      }
    },
    {
      "cell_type": "markdown",
      "source": [
        "### 9. Handling Imbalanced Dataset"
      ],
      "metadata": {
        "id": "P1XJ9OREExlT"
      }
    },
    {
      "cell_type": "markdown",
      "source": [
        "##### Do you think the dataset is imbalanced? Explain Why."
      ],
      "metadata": {
        "id": "VFOzZv6IFROw"
      }
    },
    {
      "cell_type": "markdown",
      "source": [
        "Answer Here."
      ],
      "metadata": {
        "id": "GeKDIv7pFgcC"
      }
    },
    {
      "cell_type": "code",
      "source": [
        "# Handling Imbalanced Dataset (If needed)"
      ],
      "metadata": {
        "id": "nQsRhhZLFiDs"
      },
      "execution_count": null,
      "outputs": []
    },
    {
      "cell_type": "markdown",
      "source": [
        "##### What technique did you use to handle the imbalance dataset and why? (If needed to be balanced)"
      ],
      "metadata": {
        "id": "TIqpNgepFxVj"
      }
    },
    {
      "cell_type": "markdown",
      "source": [
        "Answer Here."
      ],
      "metadata": {
        "id": "qbet1HwdGDTz"
      }
    },
    {
      "cell_type": "markdown",
      "source": [
        "## ***7. ML Model Implementation***"
      ],
      "metadata": {
        "id": "VfCC591jGiD4"
      }
    },
    {
      "cell_type": "markdown",
      "source": [
        "### ML Model - 1"
      ],
      "metadata": {
        "id": "OB4l2ZhMeS1U"
      }
    },
    {
      "cell_type": "code",
      "source": [
        "# ML Model - 1 Implementation\n",
        "\n",
        "# Fit the Algorithm\n",
        "\n",
        "# Predict on the model"
      ],
      "metadata": {
        "id": "7ebyywQieS1U"
      },
      "execution_count": null,
      "outputs": []
    },
    {
      "cell_type": "markdown",
      "source": [
        "#### 1. Explain the ML Model used and it's performance using Evaluation metric Score Chart."
      ],
      "metadata": {
        "id": "ArJBuiUVfxKd"
      }
    },
    {
      "cell_type": "code",
      "source": [
        "# Visualizing evaluation Metric Score chart"
      ],
      "metadata": {
        "id": "rqD5ZohzfxKe"
      },
      "execution_count": null,
      "outputs": []
    },
    {
      "cell_type": "markdown",
      "source": [
        "#### 2. Cross- Validation & Hyperparameter Tuning"
      ],
      "metadata": {
        "id": "4qY1EAkEfxKe"
      }
    },
    {
      "cell_type": "code",
      "source": [
        "# ML Model - 1 Implementation with hyperparameter optimization techniques (i.e., GridSearch CV, RandomSearch CV, Bayesian Optimization etc.)\n",
        "\n",
        "# Fit the Algorithm\n",
        "\n",
        "# Predict on the model"
      ],
      "metadata": {
        "id": "Dy61ujd6fxKe"
      },
      "execution_count": null,
      "outputs": []
    },
    {
      "cell_type": "markdown",
      "source": [
        "##### Which hyperparameter optimization technique have you used and why?"
      ],
      "metadata": {
        "id": "PiV4Ypx8fxKe"
      }
    },
    {
      "cell_type": "markdown",
      "source": [
        "Answer Here."
      ],
      "metadata": {
        "id": "negyGRa7fxKf"
      }
    },
    {
      "cell_type": "markdown",
      "source": [
        "##### Have you seen any improvement? Note down the improvement with updates Evaluation metric Score Chart."
      ],
      "metadata": {
        "id": "TfvqoZmBfxKf"
      }
    },
    {
      "cell_type": "markdown",
      "source": [
        "Answer Here."
      ],
      "metadata": {
        "id": "OaLui8CcfxKf"
      }
    },
    {
      "cell_type": "markdown",
      "source": [
        "### ML Model - 2"
      ],
      "metadata": {
        "id": "dJ2tPlVmpsJ0"
      }
    },
    {
      "cell_type": "markdown",
      "source": [
        "#### 1. Explain the ML Model used and it's performance using Evaluation metric Score Chart."
      ],
      "metadata": {
        "id": "JWYfwnehpsJ1"
      }
    },
    {
      "cell_type": "code",
      "source": [
        "# Visualizing evaluation Metric Score chart"
      ],
      "metadata": {
        "id": "yEl-hgQWpsJ1"
      },
      "execution_count": null,
      "outputs": []
    },
    {
      "cell_type": "markdown",
      "source": [
        "#### 2. Cross- Validation & Hyperparameter Tuning"
      ],
      "metadata": {
        "id": "-jK_YjpMpsJ2"
      }
    },
    {
      "cell_type": "code",
      "source": [
        "# ML Model - 1 Implementation with hyperparameter optimization techniques (i.e., GridSearch CV, RandomSearch CV, Bayesian Optimization etc.)\n",
        "\n",
        "# Fit the Algorithm\n",
        "\n",
        "# Predict on the model"
      ],
      "metadata": {
        "id": "Dn0EOfS6psJ2"
      },
      "execution_count": null,
      "outputs": []
    },
    {
      "cell_type": "markdown",
      "source": [
        "##### Which hyperparameter optimization technique have you used and why?"
      ],
      "metadata": {
        "id": "HAih1iBOpsJ2"
      }
    },
    {
      "cell_type": "markdown",
      "source": [
        "Answer Here."
      ],
      "metadata": {
        "id": "9kBgjYcdpsJ2"
      }
    },
    {
      "cell_type": "markdown",
      "source": [
        "##### Have you seen any improvement? Note down the improvement with updates Evaluation metric Score Chart."
      ],
      "metadata": {
        "id": "zVGeBEFhpsJ2"
      }
    },
    {
      "cell_type": "markdown",
      "source": [
        "Answer Here."
      ],
      "metadata": {
        "id": "74yRdG6UpsJ3"
      }
    },
    {
      "cell_type": "markdown",
      "source": [
        "#### 3. Explain each evaluation metric's indication towards business and the business impact pf the ML model used."
      ],
      "metadata": {
        "id": "bmKjuQ-FpsJ3"
      }
    },
    {
      "cell_type": "markdown",
      "source": [
        "Answer Here."
      ],
      "metadata": {
        "id": "BDKtOrBQpsJ3"
      }
    },
    {
      "cell_type": "markdown",
      "source": [
        "### ML Model - 3"
      ],
      "metadata": {
        "id": "Fze-IPXLpx6K"
      }
    },
    {
      "cell_type": "code",
      "source": [
        "# ML Model - 3 Implementation\n",
        "\n",
        "# Fit the Algorithm\n",
        "\n",
        "# Predict on the model"
      ],
      "metadata": {
        "id": "FFrSXAtrpx6M"
      },
      "execution_count": null,
      "outputs": []
    },
    {
      "cell_type": "markdown",
      "source": [
        "#### 1. Explain the ML Model used and it's performance using Evaluation metric Score Chart."
      ],
      "metadata": {
        "id": "7AN1z2sKpx6M"
      }
    },
    {
      "cell_type": "code",
      "source": [
        "# Visualizing evaluation Metric Score chart"
      ],
      "metadata": {
        "id": "xIY4lxxGpx6M"
      },
      "execution_count": null,
      "outputs": []
    },
    {
      "cell_type": "markdown",
      "source": [
        "#### 2. Cross- Validation & Hyperparameter Tuning"
      ],
      "metadata": {
        "id": "9PIHJqyupx6M"
      }
    },
    {
      "cell_type": "code",
      "source": [
        "# ML Model - 3 Implementation with hyperparameter optimization techniques (i.e., GridSearch CV, RandomSearch CV, Bayesian Optimization etc.)\n",
        "\n",
        "# Fit the Algorithm\n",
        "\n",
        "# Predict on the model"
      ],
      "metadata": {
        "id": "eSVXuaSKpx6M"
      },
      "execution_count": null,
      "outputs": []
    },
    {
      "cell_type": "markdown",
      "source": [
        "##### Which hyperparameter optimization technique have you used and why?"
      ],
      "metadata": {
        "id": "_-qAgymDpx6N"
      }
    },
    {
      "cell_type": "markdown",
      "source": [
        "Answer Here."
      ],
      "metadata": {
        "id": "lQMffxkwpx6N"
      }
    },
    {
      "cell_type": "markdown",
      "source": [
        "##### Have you seen any improvement? Note down the improvement with updates Evaluation metric Score Chart."
      ],
      "metadata": {
        "id": "Z-hykwinpx6N"
      }
    },
    {
      "cell_type": "markdown",
      "source": [
        "Answer Here."
      ],
      "metadata": {
        "id": "MzVzZC6opx6N"
      }
    },
    {
      "cell_type": "markdown",
      "source": [
        "### 1. Which Evaluation metrics did you consider for a positive business impact and why?"
      ],
      "metadata": {
        "id": "h_CCil-SKHpo"
      }
    },
    {
      "cell_type": "markdown",
      "source": [
        "Answer Here."
      ],
      "metadata": {
        "id": "jHVz9hHDKFms"
      }
    },
    {
      "cell_type": "markdown",
      "source": [
        "### 2. Which ML model did you choose from the above created models as your final prediction model and why?"
      ],
      "metadata": {
        "id": "cBFFvTBNJzUa"
      }
    },
    {
      "cell_type": "markdown",
      "source": [
        "Answer Here."
      ],
      "metadata": {
        "id": "6ksF5Q1LKTVm"
      }
    },
    {
      "cell_type": "markdown",
      "source": [
        "### 3. Explain the model which you have used and the feature importance using any model explainability tool?"
      ],
      "metadata": {
        "id": "HvGl1hHyA_VK"
      }
    },
    {
      "cell_type": "markdown",
      "source": [
        "Answer Here."
      ],
      "metadata": {
        "id": "YnvVTiIxBL-C"
      }
    },
    {
      "cell_type": "markdown",
      "source": [
        "## ***8.*** ***Future Work (Optional)***"
      ],
      "metadata": {
        "id": "EyNgTHvd2WFk"
      }
    },
    {
      "cell_type": "markdown",
      "source": [
        "### 1. Save the best performing ml model in a pickle file or joblib file format for deployment process.\n"
      ],
      "metadata": {
        "id": "KH5McJBi2d8v"
      }
    },
    {
      "cell_type": "code",
      "source": [
        "# Save the File"
      ],
      "metadata": {
        "id": "bQIANRl32f4J"
      },
      "execution_count": null,
      "outputs": []
    },
    {
      "cell_type": "markdown",
      "source": [
        "### 2. Again Load the saved model file and try to predict unseen data for a sanity check.\n"
      ],
      "metadata": {
        "id": "iW_Lq9qf2h6X"
      }
    },
    {
      "cell_type": "code",
      "source": [
        "# Load the File and predict unseen data."
      ],
      "metadata": {
        "id": "oEXk9ydD2nVC"
      },
      "execution_count": null,
      "outputs": []
    },
    {
      "cell_type": "markdown",
      "source": [
        "### ***Congrats! Your model is successfully created and ready for deployment on a live server for a real user interaction !!!***"
      ],
      "metadata": {
        "id": "-Kee-DAl2viO"
      }
    },
    {
      "cell_type": "markdown",
      "source": [
        "# **Conclusion**"
      ],
      "metadata": {
        "id": "gCX9965dhzqZ"
      }
    },
    {
      "cell_type": "markdown",
      "source": [
        "Write the conclusion here."
      ],
      "metadata": {
        "id": "Fjb1IsQkh3yE"
      }
    },
    {
      "cell_type": "markdown",
      "source": [
        "### ***Hurrah! You have successfully completed your Machine Learning Capstone Project !!!***"
      ],
      "metadata": {
        "id": "gIfDvo9L0UH2"
      }
    }
  ]
}